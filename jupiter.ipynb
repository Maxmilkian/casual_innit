{
 "cells": [
  {
   "cell_type": "markdown",
   "id": "6988355f",
   "metadata": {},
   "source": [
    "# Task 1"
   ]
  },
  {
   "cell_type": "code",
   "execution_count": 124,
   "id": "4c593b86",
   "metadata": {},
   "outputs": [],
   "source": [
    "import pandas as pd\n",
    "import numpy as np\n",
    "import sqlite3 as sql\n",
    "import matplotlib.pyplot as plt\n",
    "from sklearn.model_selection import cross_val_score"
   ]
  },
  {
   "cell_type": "markdown",
   "id": "81661a8c",
   "metadata": {},
   "source": [
    "Create connection to database file."
   ]
  },
  {
   "cell_type": "code",
   "execution_count": 125,
   "id": "6a8c3ad0",
   "metadata": {},
   "outputs": [],
   "source": [
    "database = \"jupiter.db\"\n",
    "connection = sql.connect(database)"
   ]
  },
  {
   "cell_type": "markdown",
   "id": "d8908d12",
   "metadata": {},
   "source": [
    "Below is the Moons class which loads data from the Jupiter's moons database. Within this class there are functions created to help achieve this objective."
   ]
  },
  {
   "cell_type": "code",
   "execution_count": 126,
   "id": "6982ba5a",
   "metadata": {},
   "outputs": [],
   "source": [
    "class Moons:\n",
    "    def __init__(self, database = 'jupiter.db', connection = sql.connect(database)):\n",
    "        # Initialize the Moons class with a specified SQLite database or use the default 'jupiter.db'\n",
    "        self.database = database\n",
    "        self.connection = connection\n",
    "        # Read data from the 'moons' table in the SQLite database into a Pandas DataFrame\n",
    "        self.df = pd.read_sql_query('SELECT * FROM moons', self.connection)\n",
    "        \n",
    "    def number_of_moons(self):\n",
    "        # Return the number of moons in the dataset\n",
    "        return len(self.df)\n",
    "        \n",
    "    def summary_statistics(self):\n",
    "        # Calculate and return summary statistics for the DataFrame\n",
    "        return self.df.describe()\n",
    "    \n",
    "    def correlation(self):\n",
    "        # Calculate and return the correlation matrix for the DataFrame\n",
    "        return self.df.corr()\n",
    "    \n",
    "    def extract_moon_data(self, moon_name):\n",
    "        # Extract data for a specific moon by filtering the DataFrame based on the 'moon_name'\n",
    "        moon_data = self.df[self.df['moon'] == moon_name]\n",
    "        return moon_data\n",
    "    \n",
    "    def scat_plot(self, x_column, y_column):\n",
    "        # Create a scatter plot using specified x and y columns\n",
    "        plt.scatter(self.df[x_column], self.df[y_column])\n",
    "        plt.xlabel(x_column)\n",
    "        plt.ylabel(y_column)\n",
    "        plt.title(f'{x_column} against {y_column}')\n",
    "        plt.show()\n",
    "        \n",
    "    def hist_plot(self, column, bins=10):\n",
    "        # Create a histogram plot for a specified column \n",
    "        plt.hist(self.df[column], bins=bins, edgecolor='blue')\n",
    "        plt.xlabel(column)\n",
    "        plt.ylabel('Frequency')\n",
    "        plt.title('Histogram Plot')\n",
    "        plt.show()\n",
    "        \n",
    "    def linear_model_validation(self, feature_column, target_column, num_folds=5):\n",
    "        # Extract feature and target columns\n",
    "        X = self.df[[feature_column]]\n",
    "        y = self.df[target_column]\n",
    "        # Create a linear regression model\n",
    "        model = linear_model.LinearRegression()\n",
    "        # Perform cross-validation and obtain scores\n",
    "        scores = cross_val_score(model, X, y, cv=num_folds)\n",
    "        # Print or return the cross-validation scores\n",
    "        print(f'Cross-Validation Scores: {scores}')\n",
    "        print(f'Mean Score: {scores.mean()}')\n",
    "        print(f'Standard Deviation: {scores.std()}')\n",
    "        return scores"
   ]
  },
  {
   "cell_type": "markdown",
   "id": "6771af42",
   "metadata": {},
   "source": [
    "Below we create an instance of the Moons class, initializing the class and assigning it to variable M."
   ]
  },
  {
   "cell_type": "code",
   "execution_count": 127,
   "id": "99c6852b",
   "metadata": {},
   "outputs": [],
   "source": [
    "M = Moons()"
   ]
  },
  {
   "cell_type": "markdown",
   "id": "550f638f",
   "metadata": {},
   "source": [
    "The .number_of_moons() function can be used to return the total number of moons in the class."
   ]
  },
  {
   "cell_type": "code",
   "execution_count": 128,
   "id": "1129322f",
   "metadata": {},
   "outputs": [
    {
     "data": {
      "text/plain": [
       "56"
      ]
     },
     "execution_count": 128,
     "metadata": {},
     "output_type": "execute_result"
    }
   ],
   "source": [
    "num_moons = M.number_of_moons()\n",
    "num_moons"
   ]
  },
  {
   "cell_type": "markdown",
   "id": "8a23ef22",
   "metadata": {},
   "source": [
    "There are 8 fields of data for each moon and with 56 moons, there are 448 records in the data set."
   ]
  },
  {
   "cell_type": "markdown",
   "id": "041f1504",
   "metadata": {},
   "source": [
    "One can use df.head() on moon class to display the initial few rows of the DataFrame to get a preview of the Moon data."
   ]
  },
  {
   "cell_type": "code",
   "execution_count": 129,
   "id": "c7e53809",
   "metadata": {},
   "outputs": [
    {
     "data": {
      "text/html": [
       "<div>\n",
       "<style scoped>\n",
       "    .dataframe tbody tr th:only-of-type {\n",
       "        vertical-align: middle;\n",
       "    }\n",
       "\n",
       "    .dataframe tbody tr th {\n",
       "        vertical-align: top;\n",
       "    }\n",
       "\n",
       "    .dataframe thead th {\n",
       "        text-align: right;\n",
       "    }\n",
       "</style>\n",
       "<table border=\"1\" class=\"dataframe\">\n",
       "  <thead>\n",
       "    <tr style=\"text-align: right;\">\n",
       "      <th></th>\n",
       "      <th>moon</th>\n",
       "      <th>period_days</th>\n",
       "      <th>distance_km</th>\n",
       "      <th>radius_km</th>\n",
       "      <th>mag</th>\n",
       "      <th>mass_kg</th>\n",
       "      <th>group</th>\n",
       "      <th>ecc</th>\n",
       "      <th>inclination_deg</th>\n",
       "    </tr>\n",
       "  </thead>\n",
       "  <tbody>\n",
       "    <tr>\n",
       "      <th>0</th>\n",
       "      <td>Adrastea</td>\n",
       "      <td>0.298</td>\n",
       "      <td>129000.0</td>\n",
       "      <td>8.2</td>\n",
       "      <td>NaN</td>\n",
       "      <td>NaN</td>\n",
       "      <td>Inner</td>\n",
       "      <td>0.001500</td>\n",
       "      <td>0.03</td>\n",
       "    </tr>\n",
       "    <tr>\n",
       "      <th>1</th>\n",
       "      <td>Aitne</td>\n",
       "      <td>730.000</td>\n",
       "      <td>23231000.0</td>\n",
       "      <td>1.5</td>\n",
       "      <td>22.7</td>\n",
       "      <td>NaN</td>\n",
       "      <td>Carme</td>\n",
       "      <td>0.264000</td>\n",
       "      <td>165.00</td>\n",
       "    </tr>\n",
       "    <tr>\n",
       "      <th>2</th>\n",
       "      <td>Amalthea</td>\n",
       "      <td>0.498</td>\n",
       "      <td>181400.0</td>\n",
       "      <td>83.5</td>\n",
       "      <td>14.1</td>\n",
       "      <td>2.080000e+18</td>\n",
       "      <td>Inner</td>\n",
       "      <td>0.003190</td>\n",
       "      <td>0.37</td>\n",
       "    </tr>\n",
       "    <tr>\n",
       "      <th>3</th>\n",
       "      <td>Ananke</td>\n",
       "      <td>630.000</td>\n",
       "      <td>21300000.0</td>\n",
       "      <td>14.0</td>\n",
       "      <td>18.9</td>\n",
       "      <td>NaN</td>\n",
       "      <td>Ananke</td>\n",
       "      <td>0.174725</td>\n",
       "      <td>148.60</td>\n",
       "    </tr>\n",
       "    <tr>\n",
       "      <th>4</th>\n",
       "      <td>Aoede</td>\n",
       "      <td>761.000</td>\n",
       "      <td>24000000.0</td>\n",
       "      <td>2.0</td>\n",
       "      <td>22.5</td>\n",
       "      <td>NaN</td>\n",
       "      <td>Pasiphae</td>\n",
       "      <td>0.432000</td>\n",
       "      <td>158.00</td>\n",
       "    </tr>\n",
       "  </tbody>\n",
       "</table>\n",
       "</div>"
      ],
      "text/plain": [
       "       moon  period_days  distance_km  radius_km   mag       mass_kg  \\\n",
       "0  Adrastea        0.298     129000.0        8.2   NaN           NaN   \n",
       "1     Aitne      730.000   23231000.0        1.5  22.7           NaN   \n",
       "2  Amalthea        0.498     181400.0       83.5  14.1  2.080000e+18   \n",
       "3    Ananke      630.000   21300000.0       14.0  18.9           NaN   \n",
       "4     Aoede      761.000   24000000.0        2.0  22.5           NaN   \n",
       "\n",
       "      group       ecc  inclination_deg  \n",
       "0     Inner  0.001500             0.03  \n",
       "1     Carme  0.264000           165.00  \n",
       "2     Inner  0.003190             0.37  \n",
       "3    Ananke  0.174725           148.60  \n",
       "4  Pasiphae  0.432000           158.00  "
      ]
     },
     "execution_count": 129,
     "metadata": {},
     "output_type": "execute_result"
    }
   ],
   "source": [
    "M.df.head()"
   ]
  },
  {
   "cell_type": "markdown",
   "id": "f215e764",
   "metadata": {},
   "source": [
    "One can use the summary statistic method to obtain a summary of the statistics in the data frame."
   ]
  },
  {
   "cell_type": "code",
   "execution_count": 130,
   "id": "707b1867",
   "metadata": {
    "scrolled": true
   },
   "outputs": [
    {
     "data": {
      "text/html": [
       "<div>\n",
       "<style scoped>\n",
       "    .dataframe tbody tr th:only-of-type {\n",
       "        vertical-align: middle;\n",
       "    }\n",
       "\n",
       "    .dataframe tbody tr th {\n",
       "        vertical-align: top;\n",
       "    }\n",
       "\n",
       "    .dataframe thead th {\n",
       "        text-align: right;\n",
       "    }\n",
       "</style>\n",
       "<table border=\"1\" class=\"dataframe\">\n",
       "  <thead>\n",
       "    <tr style=\"text-align: right;\">\n",
       "      <th></th>\n",
       "      <th>period_days</th>\n",
       "      <th>distance_km</th>\n",
       "      <th>radius_km</th>\n",
       "      <th>mag</th>\n",
       "      <th>mass_kg</th>\n",
       "      <th>ecc</th>\n",
       "      <th>inclination_deg</th>\n",
       "    </tr>\n",
       "  </thead>\n",
       "  <tbody>\n",
       "    <tr>\n",
       "      <th>count</th>\n",
       "      <td>56.000000</td>\n",
       "      <td>5.600000e+01</td>\n",
       "      <td>56.000000</td>\n",
       "      <td>53.000000</td>\n",
       "      <td>6.000000e+00</td>\n",
       "      <td>56.000000</td>\n",
       "      <td>56.000000</td>\n",
       "    </tr>\n",
       "    <tr>\n",
       "      <th>mean</th>\n",
       "      <td>525.998146</td>\n",
       "      <td>1.775655e+07</td>\n",
       "      <td>158.969643</td>\n",
       "      <td>20.418302</td>\n",
       "      <td>6.551798e+22</td>\n",
       "      <td>0.222922</td>\n",
       "      <td>113.571607</td>\n",
       "    </tr>\n",
       "    <tr>\n",
       "      <th>std</th>\n",
       "      <td>272.670243</td>\n",
       "      <td>8.253688e+06</td>\n",
       "      <td>557.730632</td>\n",
       "      <td>4.926587</td>\n",
       "      <td>6.010469e+22</td>\n",
       "      <td>0.126899</td>\n",
       "      <td>64.562822</td>\n",
       "    </tr>\n",
       "    <tr>\n",
       "      <th>min</th>\n",
       "      <td>0.290000</td>\n",
       "      <td>1.280000e+05</td>\n",
       "      <td>1.000000</td>\n",
       "      <td>4.610000</td>\n",
       "      <td>2.080000e+18</td>\n",
       "      <td>0.000200</td>\n",
       "      <td>0.030000</td>\n",
       "    </tr>\n",
       "    <tr>\n",
       "      <th>25%</th>\n",
       "      <td>258.750000</td>\n",
       "      <td>1.170252e+07</td>\n",
       "      <td>1.500000</td>\n",
       "      <td>20.800000</td>\n",
       "      <td>1.200276e+22</td>\n",
       "      <td>0.159201</td>\n",
       "      <td>30.582500</td>\n",
       "    </tr>\n",
       "    <tr>\n",
       "      <th>50%</th>\n",
       "      <td>632.500000</td>\n",
       "      <td>2.129009e+07</td>\n",
       "      <td>2.000000</td>\n",
       "      <td>22.500000</td>\n",
       "      <td>6.865891e+22</td>\n",
       "      <td>0.228000</td>\n",
       "      <td>148.600000</td>\n",
       "    </tr>\n",
       "    <tr>\n",
       "      <th>75%</th>\n",
       "      <td>725.500000</td>\n",
       "      <td>2.336375e+07</td>\n",
       "      <td>11.562500</td>\n",
       "      <td>23.000000</td>\n",
       "      <td>1.030252e+23</td>\n",
       "      <td>0.298858</td>\n",
       "      <td>159.175000</td>\n",
       "    </tr>\n",
       "    <tr>\n",
       "      <th>max</th>\n",
       "      <td>787.000000</td>\n",
       "      <td>2.458309e+07</td>\n",
       "      <td>2634.100000</td>\n",
       "      <td>23.700000</td>\n",
       "      <td>1.481900e+23</td>\n",
       "      <td>0.611016</td>\n",
       "      <td>166.200000</td>\n",
       "    </tr>\n",
       "  </tbody>\n",
       "</table>\n",
       "</div>"
      ],
      "text/plain": [
       "       period_days   distance_km    radius_km        mag       mass_kg  \\\n",
       "count    56.000000  5.600000e+01    56.000000  53.000000  6.000000e+00   \n",
       "mean    525.998146  1.775655e+07   158.969643  20.418302  6.551798e+22   \n",
       "std     272.670243  8.253688e+06   557.730632   4.926587  6.010469e+22   \n",
       "min       0.290000  1.280000e+05     1.000000   4.610000  2.080000e+18   \n",
       "25%     258.750000  1.170252e+07     1.500000  20.800000  1.200276e+22   \n",
       "50%     632.500000  2.129009e+07     2.000000  22.500000  6.865891e+22   \n",
       "75%     725.500000  2.336375e+07    11.562500  23.000000  1.030252e+23   \n",
       "max     787.000000  2.458309e+07  2634.100000  23.700000  1.481900e+23   \n",
       "\n",
       "             ecc  inclination_deg  \n",
       "count  56.000000        56.000000  \n",
       "mean    0.222922       113.571607  \n",
       "std     0.126899        64.562822  \n",
       "min     0.000200         0.030000  \n",
       "25%     0.159201        30.582500  \n",
       "50%     0.228000       148.600000  \n",
       "75%     0.298858       159.175000  \n",
       "max     0.611016       166.200000  "
      ]
     },
     "execution_count": 130,
     "metadata": {},
     "output_type": "execute_result"
    }
   ],
   "source": [
    "summary_stats = M.summary_statistics()\n",
    "summary_stats"
   ]
  },
  {
   "cell_type": "markdown",
   "id": "aaade9c5",
   "metadata": {},
   "source": [
    "One can use the .correlation() to return the correlation matrix. This matrix aids ones understanding of the relationship between different variables of the moons data. Values close to 1 or -1 indicate strong positive or negative correlations, while values close to 0 suggest weaker correlations."
   ]
  },
  {
   "cell_type": "code",
   "execution_count": 131,
   "id": "ce649bb1",
   "metadata": {
    "scrolled": true
   },
   "outputs": [
    {
     "name": "stderr",
     "output_type": "stream",
     "text": [
      "/tmp/ipykernel_139/3945386183.py:19: FutureWarning: The default value of numeric_only in DataFrame.corr is deprecated. In a future version, it will default to False. Select only valid columns or specify the value of numeric_only to silence this warning.\n",
      "  return self.df.corr()\n"
     ]
    },
    {
     "data": {
      "text/html": [
       "<div>\n",
       "<style scoped>\n",
       "    .dataframe tbody tr th:only-of-type {\n",
       "        vertical-align: middle;\n",
       "    }\n",
       "\n",
       "    .dataframe tbody tr th {\n",
       "        vertical-align: top;\n",
       "    }\n",
       "\n",
       "    .dataframe thead th {\n",
       "        text-align: right;\n",
       "    }\n",
       "</style>\n",
       "<table border=\"1\" class=\"dataframe\">\n",
       "  <thead>\n",
       "    <tr style=\"text-align: right;\">\n",
       "      <th></th>\n",
       "      <th>period_days</th>\n",
       "      <th>distance_km</th>\n",
       "      <th>radius_km</th>\n",
       "      <th>mag</th>\n",
       "      <th>mass_kg</th>\n",
       "      <th>ecc</th>\n",
       "      <th>inclination_deg</th>\n",
       "    </tr>\n",
       "  </thead>\n",
       "  <tbody>\n",
       "    <tr>\n",
       "      <th>period_days</th>\n",
       "      <td>1.000000</td>\n",
       "      <td>0.991521</td>\n",
       "      <td>-0.534434</td>\n",
       "      <td>0.742646</td>\n",
       "      <td>-0.504430</td>\n",
       "      <td>0.737181</td>\n",
       "      <td>0.969493</td>\n",
       "    </tr>\n",
       "    <tr>\n",
       "      <th>distance_km</th>\n",
       "      <td>0.991521</td>\n",
       "      <td>1.000000</td>\n",
       "      <td>-0.567266</td>\n",
       "      <td>0.799187</td>\n",
       "      <td>-0.453339</td>\n",
       "      <td>0.750819</td>\n",
       "      <td>0.953873</td>\n",
       "    </tr>\n",
       "    <tr>\n",
       "      <th>radius_km</th>\n",
       "      <td>-0.534434</td>\n",
       "      <td>-0.567266</td>\n",
       "      <td>1.000000</td>\n",
       "      <td>-0.887393</td>\n",
       "      <td>0.968379</td>\n",
       "      <td>-0.478901</td>\n",
       "      <td>-0.487645</td>\n",
       "    </tr>\n",
       "    <tr>\n",
       "      <th>mag</th>\n",
       "      <td>0.742646</td>\n",
       "      <td>0.799187</td>\n",
       "      <td>-0.887393</td>\n",
       "      <td>1.000000</td>\n",
       "      <td>-0.861359</td>\n",
       "      <td>0.554617</td>\n",
       "      <td>0.688529</td>\n",
       "    </tr>\n",
       "    <tr>\n",
       "      <th>mass_kg</th>\n",
       "      <td>-0.504430</td>\n",
       "      <td>-0.453339</td>\n",
       "      <td>0.968379</td>\n",
       "      <td>-0.861359</td>\n",
       "      <td>1.000000</td>\n",
       "      <td>-0.543138</td>\n",
       "      <td>-0.489378</td>\n",
       "    </tr>\n",
       "    <tr>\n",
       "      <th>ecc</th>\n",
       "      <td>0.737181</td>\n",
       "      <td>0.750819</td>\n",
       "      <td>-0.478901</td>\n",
       "      <td>0.554617</td>\n",
       "      <td>-0.543138</td>\n",
       "      <td>1.000000</td>\n",
       "      <td>0.645961</td>\n",
       "    </tr>\n",
       "    <tr>\n",
       "      <th>inclination_deg</th>\n",
       "      <td>0.969493</td>\n",
       "      <td>0.953873</td>\n",
       "      <td>-0.487645</td>\n",
       "      <td>0.688529</td>\n",
       "      <td>-0.489378</td>\n",
       "      <td>0.645961</td>\n",
       "      <td>1.000000</td>\n",
       "    </tr>\n",
       "  </tbody>\n",
       "</table>\n",
       "</div>"
      ],
      "text/plain": [
       "                 period_days  distance_km  radius_km       mag   mass_kg  \\\n",
       "period_days         1.000000     0.991521  -0.534434  0.742646 -0.504430   \n",
       "distance_km         0.991521     1.000000  -0.567266  0.799187 -0.453339   \n",
       "radius_km          -0.534434    -0.567266   1.000000 -0.887393  0.968379   \n",
       "mag                 0.742646     0.799187  -0.887393  1.000000 -0.861359   \n",
       "mass_kg            -0.504430    -0.453339   0.968379 -0.861359  1.000000   \n",
       "ecc                 0.737181     0.750819  -0.478901  0.554617 -0.543138   \n",
       "inclination_deg     0.969493     0.953873  -0.487645  0.688529 -0.489378   \n",
       "\n",
       "                      ecc  inclination_deg  \n",
       "period_days      0.737181         0.969493  \n",
       "distance_km      0.750819         0.953873  \n",
       "radius_km       -0.478901        -0.487645  \n",
       "mag              0.554617         0.688529  \n",
       "mass_kg         -0.543138        -0.489378  \n",
       "ecc              1.000000         0.645961  \n",
       "inclination_deg  0.645961         1.000000  "
      ]
     },
     "execution_count": 131,
     "metadata": {},
     "output_type": "execute_result"
    }
   ],
   "source": [
    "correlation_matrix = M.correlation()\n",
    "correlation_matrix"
   ]
  },
  {
   "cell_type": "markdown",
   "id": "f7837faa",
   "metadata": {},
   "source": [
    "One can use the .extract_moon_data() function to view the data available on a desired moon."
   ]
  },
  {
   "cell_type": "code",
   "execution_count": 132,
   "id": "5ad10349",
   "metadata": {},
   "outputs": [
    {
     "data": {
      "text/html": [
       "<div>\n",
       "<style scoped>\n",
       "    .dataframe tbody tr th:only-of-type {\n",
       "        vertical-align: middle;\n",
       "    }\n",
       "\n",
       "    .dataframe tbody tr th {\n",
       "        vertical-align: top;\n",
       "    }\n",
       "\n",
       "    .dataframe thead th {\n",
       "        text-align: right;\n",
       "    }\n",
       "</style>\n",
       "<table border=\"1\" class=\"dataframe\">\n",
       "  <thead>\n",
       "    <tr style=\"text-align: right;\">\n",
       "      <th></th>\n",
       "      <th>moon</th>\n",
       "      <th>period_days</th>\n",
       "      <th>distance_km</th>\n",
       "      <th>radius_km</th>\n",
       "      <th>mag</th>\n",
       "      <th>mass_kg</th>\n",
       "      <th>group</th>\n",
       "      <th>ecc</th>\n",
       "      <th>inclination_deg</th>\n",
       "    </tr>\n",
       "  </thead>\n",
       "  <tbody>\n",
       "    <tr>\n",
       "      <th>1</th>\n",
       "      <td>Aitne</td>\n",
       "      <td>730.0</td>\n",
       "      <td>23231000.0</td>\n",
       "      <td>1.5</td>\n",
       "      <td>22.7</td>\n",
       "      <td>NaN</td>\n",
       "      <td>Carme</td>\n",
       "      <td>0.264</td>\n",
       "      <td>165.0</td>\n",
       "    </tr>\n",
       "  </tbody>\n",
       "</table>\n",
       "</div>"
      ],
      "text/plain": [
       "    moon  period_days  distance_km  radius_km   mag  mass_kg  group    ecc  \\\n",
       "1  Aitne        730.0   23231000.0        1.5  22.7      NaN  Carme  0.264   \n",
       "\n",
       "   inclination_deg  \n",
       "1            165.0  "
      ]
     },
     "execution_count": 132,
     "metadata": {},
     "output_type": "execute_result"
    }
   ],
   "source": [
    "# e.g. Viewing data on the moon Aitne\n",
    "moon_data = M.extract_moon_data('Aitne')\n",
    "moon_data"
   ]
  },
  {
   "cell_type": "markdown",
   "id": "87853711",
   "metadata": {},
   "source": [
    "One can use the .scat_plot() function to obtain a scatter plot of one variable against another."
   ]
  },
  {
   "cell_type": "code",
   "execution_count": 133,
   "id": "99f25279",
   "metadata": {},
   "outputs": [
    {
     "data": {
      "image/png": "[encoded data removed]",
      "text/plain": [
       "<Figure size 640x480 with 1 Axes>"
      ]
     },
     "metadata": {},
     "output_type": "display_data"
    }
   ],
   "source": [
    "# e.g. We take a look at the relationship between period_days and distance_km\n",
    "M.scat_plot('period_days', 'distance_km')"
   ]
  },
  {
   "cell_type": "markdown",
   "id": "462323b6",
   "metadata": {},
   "source": [
    "As we can see from the scatter plot above, while not entirely linear, there seems to be some correlation between the moon variables period_days and distance_km. It can also be seen in the correlation matrix that the two variables have a 0.991521 correlation, indicating a strong positive correlation."
   ]
  },
  {
   "cell_type": "markdown",
   "id": "9384279f",
   "metadata": {},
   "source": [
    " It is also observed that the variables radius_km and mass_kg have a strong positive correlation with a correlation value of 0.968379."
   ]
  },
  {
   "cell_type": "code",
   "execution_count": 134,
   "id": "941e97ec",
   "metadata": {},
   "outputs": [
    {
     "data": {
      "image/png": "[encoded data removed]",
      "text/plain": [
       "<Figure size 640x480 with 1 Axes>"
      ]
     },
     "metadata": {},
     "output_type": "display_data"
    }
   ],
   "source": [
    "# e.g. Relationship between radius_km and mass_kg\n",
    "M.scat_plot('radius_km', 'mass_kg')"
   ]
  },
  {
   "cell_type": "markdown",
   "id": "2da4295f",
   "metadata": {},
   "source": [
    "Based on prior knowledge, the existence of these highly correlated relationships are reasonable."
   ]
  },
  {
   "cell_type": "markdown",
   "id": "c88dda99",
   "metadata": {},
   "source": [
    "Similarly, one can use the .hist_plot() to plot a histogram which allows one to view the frequency of occurance of a selected variable."
   ]
  },
  {
   "cell_type": "code",
   "execution_count": 135,
   "id": "8bd83a83",
   "metadata": {},
   "outputs": [
    {
     "data": {
      "image/png": "[encoded data removed]",
      "text/plain": [
       "<Figure size 640x480 with 1 Axes>"
      ]
     },
     "metadata": {},
     "output_type": "display_data"
    }
   ],
   "source": [
    "# e.g. Plotting the frequency of period_days\n",
    "M.hist_plot('period_days')"
   ]
  },
  {
   "cell_type": "markdown",
   "id": "849b1292",
   "metadata": {},
   "source": [
    "Answer the questions...."
   ]
  },
  {
   "cell_type": "markdown",
   "id": "7e72bbe1",
   "metadata": {},
   "source": [
    "# Task 2"
   ]
  },
  {
   "cell_type": "markdown",
   "id": "0c529ba8",
   "metadata": {},
   "source": [
    "Bewlow we train a data set to create a linear regression model."
   ]
  },
  {
   "cell_type": "code",
   "execution_count": 136,
   "id": "c3ff6cfd",
   "metadata": {},
   "outputs": [],
   "source": [
    "from sklearn.model_selection import train_test_split\n",
    "\n",
    "# Select the columns 'period_days' and 'distance_km' from the DataFrame\n",
    "# Since T^2 is proportional to a^3 as provided by the equation, we will test their linear regression\n",
    "# Adjust for units; we want T_2 in seconds squared and a_3 in metres cubed\n",
    "T_2 = (M.df[['period_days']] * 24 * 60 * 60) ** 2\n",
    "a_3 = (M.df['distance_km'] * 1000)** 3\n",
    "\n",
    "# Prepare the input data, separating into training and testing sets\n",
    "x_train_moons, x_test_moons, y_train_moons, y_test_moons = train_test_split(T_2, a_3, test_size=0.3, random_state=1)"
   ]
  },
  {
   "cell_type": "markdown",
   "id": "91ed5c54",
   "metadata": {},
   "source": [
    "Below we initialize a linear regression model, train it using the provided training set (x_train_moons, y_train_moons), and then use the trained model to make predictions on the testing set (x_test_moons). The goal is to assess how well the model generalizes to new, unseen data by comparing its predictions to the actual values in the testing set."
   ]
  },
  {
   "cell_type": "code",
   "execution_count": 137,
   "id": "b4ffd4e4",
   "metadata": {},
   "outputs": [],
   "source": [
    "# create an instance of the model\n",
    "from sklearn import linear_model\n",
    "model = linear_model.LinearRegression(fit_intercept=True)\n",
    "\n",
    "# train the model using the training set\n",
    "model.fit(x_train_moons, y_train_moons)\n",
    "\n",
    "# use the model to predict y-values of the testing set\n",
    "pred = model.predict(x_test_moons)"
   ]
  },
  {
   "cell_type": "markdown",
   "id": "f82dc1fa",
   "metadata": {},
   "source": [
    "Create a a residual plot and a dashed line at zero for reference. The plot is useful for checking the assumptions of a linear regression model, such as the randomness and homoscedasticity of residuals."
   ]
  },
  {
   "cell_type": "code",
   "execution_count": 138,
   "id": "90779c81",
   "metadata": {
    "scrolled": true
   },
   "outputs": [
    {
     "data": {
      "text/plain": [
       "Text(0, 0.5, 'Distance (m)')"
      ]
     },
     "execution_count": 138,
     "metadata": {},
     "output_type": "execute_result"
    },
    {
     "data": {
      "image/png": "[encoded data removed]",
      "text/plain": [
       "<Figure size 640x480 with 1 Axes>"
      ]
     },
     "metadata": {},
     "output_type": "display_data"
    }
   ],
   "source": [
    "fig, ax = plt.subplots()\n",
    "# Create a plot of residuals\n",
    "ax.plot(x_test_moons,y_test_moons - pred,'.')\n",
    "# Add a horizontal line at zero to guide the eye\n",
    "ax.axhline(0, color='k', linestyle='dashed')\n",
    "# Add axis labels\n",
    "ax.set_xlabel('Period Days Squared (s)')\n",
    "ax.set_ylabel('Distance (m)')"
   ]
  },
  {
   "cell_type": "markdown",
   "id": "7d4cc19f",
   "metadata": {},
   "source": [
    "Below we plot our linear regression model. this creates a visualization with a scatter plot for the actual values and a line plot for the predicted values, allowing you to visually assess how well the linear regression model fits the testing data."
   ]
  },
  {
   "cell_type": "code",
   "execution_count": 139,
   "id": "7c47edaf",
   "metadata": {},
   "outputs": [
    {
     "data": {
      "image/png": "[encoded data removed]",
      "text/plain": [
       "<Figure size 640x480 with 1 Axes>"
      ]
     },
     "metadata": {},
     "output_type": "display_data"
    }
   ],
   "source": [
    "import matplotlib.pyplot as plt\n",
    "# Scatter plot of actual values\n",
    "plt.scatter(x_test_moons, y_test_moons, color='black', label='Actual')\n",
    "# Line plot of predicted values\n",
    "plt.plot(x_test_moons, pred, color='blue', linewidth=3, label='Predicted')\n",
    "# Axis labels and legend\n",
    "plt.xlabel('Period Days Squared (s)')\n",
    "plt.ylabel('Distance (m)')\n",
    "plt.legend()\n",
    "plt.show()"
   ]
  },
  {
   "cell_type": "code",
   "execution_count": 140,
   "id": "7a03c5ed",
   "metadata": {},
   "outputs": [
    {
     "name": "stdout",
     "output_type": "stream",
     "text": [
      "Gradients: 3233750354695096.5\n"
     ]
    }
   ],
   "source": [
    "gradient = model.coef_[0]\n",
    "print(\"Gradients:\", gradient)"
   ]
  },
  {
   "cell_type": "markdown",
   "id": "891bdf36",
   "metadata": {},
   "source": [
    "It can be indicated from the gradient calculated above that there is a positive relationship between the square of the period days and the cube of the distance."
   ]
  },
  {
   "cell_type": "code",
   "execution_count": 141,
   "id": "219429bf",
   "metadata": {},
   "outputs": [
    {
     "name": "stdout",
     "output_type": "stream",
     "text": [
      "Cross-Validation Scores: [0.98537381 0.9699614  0.98763642 0.96912008 0.98584519]\n",
      "Mean Score: 0.9795873795084636\n",
      "Standard Deviation: 0.008242013147941363\n"
     ]
    },
    {
     "data": {
      "text/plain": [
       "array([0.98537381, 0.9699614 , 0.98763642, 0.96912008, 0.98584519])"
      ]
     },
     "execution_count": 141,
     "metadata": {},
     "output_type": "execute_result"
    }
   ],
   "source": [
    "M.linear_model_validation('period_days', 'distance_km')"
   ]
  },
  {
   "cell_type": "code",
   "execution_count": 142,
   "id": "534005ff",
   "metadata": {},
   "outputs": [
    {
     "data": {
      "text/plain": [
       "1.9139932073597e+27"
      ]
     },
     "execution_count": 142,
     "metadata": {},
     "output_type": "execute_result"
    }
   ],
   "source": [
    "mass_jupiter = (4 * np.pi ** 2)/(6.67e-11) * gradient\n",
    "mass_jupiter"
   ]
  },
  {
   "cell_type": "markdown",
   "id": "697db0c9",
   "metadata": {},
   "source": [
    "The true value of Jupiter's mass is 1.898 × 10^27 kg. We can use the value we obtained and the true value to calculate the relative error in our result."
   ]
  },
  {
   "cell_type": "code",
   "execution_count": 143,
   "id": "2e215fd5",
   "metadata": {},
   "outputs": [],
   "source": [
    "def relative_error(estimate, true_val):\n",
    "    R = abs((estimate - true_val) / true_val) * 100\n",
    "    return R"
   ]
  },
  {
   "cell_type": "code",
   "execution_count": 144,
   "id": "47b38986",
   "metadata": {},
   "outputs": [
    {
     "data": {
      "text/plain": [
       "0.8426347397102241"
      ]
     },
     "execution_count": 144,
     "metadata": {},
     "output_type": "execute_result"
    }
   ],
   "source": [
    "relative_error(1.9139932073597e+27, 1.898e+27)"
   ]
  },
  {
   "cell_type": "markdown",
   "id": "4ab51dab",
   "metadata": {},
   "source": [
    "With a relative error of 0.8426347397102241, this indicates that the relative error is less than 1%, which suggests that our estimate is relatively close to the true value."
   ]
  },
  {
   "cell_type": "markdown",
   "id": "f71b5468",
   "metadata": {},
   "source": [
    "------------------------------------------------------------------------------------------------------"
   ]
  }
 ],
 "metadata": {
  "kernelspec": {
   "display_name": "Python 3 (ipykernel)",
   "language": "python",
   "name": "python3"
  },
  "language_info": {
   "codemirror_mode": {
    "name": "ipython",
    "version": 3
   },
   "file_extension": ".py",
   "mimetype": "text/x-python",
   "name": "python",
   "nbconvert_exporter": "python",
   "pygments_lexer": "ipython3",
   "version": "3.9.13"
  }
 },
 "nbformat": 4,
 "nbformat_minor": 5
}
